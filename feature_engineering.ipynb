{
 "cells": [
  {
   "cell_type": "code",
   "execution_count": 2,
   "metadata": {},
   "outputs": [],
   "source": [
    "import pandas as pd\n",
    "from preprocess import preprocess\n",
    "from BTM_excute import BTM_excute\n",
    "import tmplot as tmp"
   ]
  },
  {
   "cell_type": "markdown",
   "metadata": {},
   "source": [
    "### Sender&Time&Non-topic Features"
   ]
  },
  {
   "cell_type": "code",
   "execution_count": 2,
   "metadata": {},
   "outputs": [
    {
     "ename": "KeyboardInterrupt",
     "evalue": "",
     "output_type": "error",
     "traceback": [
      "\u001b[1;31m---------------------------------------------------------------------------\u001b[0m",
      "\u001b[1;31mKeyboardInterrupt\u001b[0m                         Traceback (most recent call last)",
      "\u001b[1;32mc:\\Users\\MarkWu\\Desktop\\Final-NLP\\Ours\\feature_engineering.ipynb Cell 2'\u001b[0m in \u001b[0;36m<cell line: 1>\u001b[1;34m()\u001b[0m\n\u001b[1;32m----> <a href='vscode-notebook-cell:/c%3A/Users/MarkWu/Desktop/Final-NLP/Ours/feature_engineering.ipynb#ch0000001?line=0'>1</a>\u001b[0m train \u001b[39m=\u001b[39m pd\u001b[39m.\u001b[39;49mread_csv(\u001b[39m'\u001b[39;49m\u001b[39mdata/weibo_train_data.txt\u001b[39;49m\u001b[39m'\u001b[39;49m,sep\u001b[39m=\u001b[39;49m\u001b[39m'\u001b[39;49m\u001b[39m\\t\u001b[39;49;00m\u001b[39m'\u001b[39;49m,\n\u001b[0;32m      <a href='vscode-notebook-cell:/c%3A/Users/MarkWu/Desktop/Final-NLP/Ours/feature_engineering.ipynb#ch0000001?line=1'>2</a>\u001b[0m                     names\u001b[39m=\u001b[39;49m[\u001b[39m'\u001b[39;49m\u001b[39muid\u001b[39;49m\u001b[39m'\u001b[39;49m,\u001b[39m'\u001b[39;49m\u001b[39mmid\u001b[39;49m\u001b[39m'\u001b[39;49m,\u001b[39m'\u001b[39;49m\u001b[39mtime\u001b[39;49m\u001b[39m'\u001b[39;49m,\u001b[39m'\u001b[39;49m\u001b[39mforward_count\u001b[39;49m\u001b[39m'\u001b[39;49m,\u001b[39m'\u001b[39;49m\u001b[39mcomment_count\u001b[39;49m\u001b[39m'\u001b[39;49m,\u001b[39m'\u001b[39;49m\u001b[39mlike_count\u001b[39;49m\u001b[39m'\u001b[39;49m,\u001b[39m'\u001b[39;49m\u001b[39mcontent\u001b[39;49m\u001b[39m'\u001b[39;49m],parse_dates\u001b[39m=\u001b[39;49m[\u001b[39m2\u001b[39;49m])\n\u001b[0;32m      <a href='vscode-notebook-cell:/c%3A/Users/MarkWu/Desktop/Final-NLP/Ours/feature_engineering.ipynb#ch0000001?line=3'>4</a>\u001b[0m \u001b[39mdef\u001b[39;00m \u001b[39mpreprocess_excute\u001b[39m(data,training_month,start,end):\n\u001b[0;32m      <a href='vscode-notebook-cell:/c%3A/Users/MarkWu/Desktop/Final-NLP/Ours/feature_engineering.ipynb#ch0000001?line=4'>5</a>\u001b[0m     processor \u001b[39m=\u001b[39m preprocess(data,training_month,start,end)\n",
      "File \u001b[1;32mc:\\Users\\MarkWu\\AppData\\Local\\Programs\\Python\\Python38\\lib\\site-packages\\pandas\\util\\_decorators.py:311\u001b[0m, in \u001b[0;36mdeprecate_nonkeyword_arguments.<locals>.decorate.<locals>.wrapper\u001b[1;34m(*args, **kwargs)\u001b[0m\n\u001b[0;32m    <a href='file:///c%3A/Users/MarkWu/AppData/Local/Programs/Python/Python38/lib/site-packages/pandas/util/_decorators.py?line=304'>305</a>\u001b[0m \u001b[39mif\u001b[39;00m \u001b[39mlen\u001b[39m(args) \u001b[39m>\u001b[39m num_allow_args:\n\u001b[0;32m    <a href='file:///c%3A/Users/MarkWu/AppData/Local/Programs/Python/Python38/lib/site-packages/pandas/util/_decorators.py?line=305'>306</a>\u001b[0m     warnings\u001b[39m.\u001b[39mwarn(\n\u001b[0;32m    <a href='file:///c%3A/Users/MarkWu/AppData/Local/Programs/Python/Python38/lib/site-packages/pandas/util/_decorators.py?line=306'>307</a>\u001b[0m         msg\u001b[39m.\u001b[39mformat(arguments\u001b[39m=\u001b[39marguments),\n\u001b[0;32m    <a href='file:///c%3A/Users/MarkWu/AppData/Local/Programs/Python/Python38/lib/site-packages/pandas/util/_decorators.py?line=307'>308</a>\u001b[0m         \u001b[39mFutureWarning\u001b[39;00m,\n\u001b[0;32m    <a href='file:///c%3A/Users/MarkWu/AppData/Local/Programs/Python/Python38/lib/site-packages/pandas/util/_decorators.py?line=308'>309</a>\u001b[0m         stacklevel\u001b[39m=\u001b[39mstacklevel,\n\u001b[0;32m    <a href='file:///c%3A/Users/MarkWu/AppData/Local/Programs/Python/Python38/lib/site-packages/pandas/util/_decorators.py?line=309'>310</a>\u001b[0m     )\n\u001b[1;32m--> <a href='file:///c%3A/Users/MarkWu/AppData/Local/Programs/Python/Python38/lib/site-packages/pandas/util/_decorators.py?line=310'>311</a>\u001b[0m \u001b[39mreturn\u001b[39;00m func(\u001b[39m*\u001b[39;49margs, \u001b[39m*\u001b[39;49m\u001b[39m*\u001b[39;49mkwargs)\n",
      "File \u001b[1;32mc:\\Users\\MarkWu\\AppData\\Local\\Programs\\Python\\Python38\\lib\\site-packages\\pandas\\io\\parsers\\readers.py:680\u001b[0m, in \u001b[0;36mread_csv\u001b[1;34m(filepath_or_buffer, sep, delimiter, header, names, index_col, usecols, squeeze, prefix, mangle_dupe_cols, dtype, engine, converters, true_values, false_values, skipinitialspace, skiprows, skipfooter, nrows, na_values, keep_default_na, na_filter, verbose, skip_blank_lines, parse_dates, infer_datetime_format, keep_date_col, date_parser, dayfirst, cache_dates, iterator, chunksize, compression, thousands, decimal, lineterminator, quotechar, quoting, doublequote, escapechar, comment, encoding, encoding_errors, dialect, error_bad_lines, warn_bad_lines, on_bad_lines, delim_whitespace, low_memory, memory_map, float_precision, storage_options)\u001b[0m\n\u001b[0;32m    <a href='file:///c%3A/Users/MarkWu/AppData/Local/Programs/Python/Python38/lib/site-packages/pandas/io/parsers/readers.py?line=664'>665</a>\u001b[0m kwds_defaults \u001b[39m=\u001b[39m _refine_defaults_read(\n\u001b[0;32m    <a href='file:///c%3A/Users/MarkWu/AppData/Local/Programs/Python/Python38/lib/site-packages/pandas/io/parsers/readers.py?line=665'>666</a>\u001b[0m     dialect,\n\u001b[0;32m    <a href='file:///c%3A/Users/MarkWu/AppData/Local/Programs/Python/Python38/lib/site-packages/pandas/io/parsers/readers.py?line=666'>667</a>\u001b[0m     delimiter,\n\u001b[1;32m   (...)\u001b[0m\n\u001b[0;32m    <a href='file:///c%3A/Users/MarkWu/AppData/Local/Programs/Python/Python38/lib/site-packages/pandas/io/parsers/readers.py?line=675'>676</a>\u001b[0m     defaults\u001b[39m=\u001b[39m{\u001b[39m\"\u001b[39m\u001b[39mdelimiter\u001b[39m\u001b[39m\"\u001b[39m: \u001b[39m\"\u001b[39m\u001b[39m,\u001b[39m\u001b[39m\"\u001b[39m},\n\u001b[0;32m    <a href='file:///c%3A/Users/MarkWu/AppData/Local/Programs/Python/Python38/lib/site-packages/pandas/io/parsers/readers.py?line=676'>677</a>\u001b[0m )\n\u001b[0;32m    <a href='file:///c%3A/Users/MarkWu/AppData/Local/Programs/Python/Python38/lib/site-packages/pandas/io/parsers/readers.py?line=677'>678</a>\u001b[0m kwds\u001b[39m.\u001b[39mupdate(kwds_defaults)\n\u001b[1;32m--> <a href='file:///c%3A/Users/MarkWu/AppData/Local/Programs/Python/Python38/lib/site-packages/pandas/io/parsers/readers.py?line=679'>680</a>\u001b[0m \u001b[39mreturn\u001b[39;00m _read(filepath_or_buffer, kwds)\n",
      "File \u001b[1;32mc:\\Users\\MarkWu\\AppData\\Local\\Programs\\Python\\Python38\\lib\\site-packages\\pandas\\io\\parsers\\readers.py:581\u001b[0m, in \u001b[0;36m_read\u001b[1;34m(filepath_or_buffer, kwds)\u001b[0m\n\u001b[0;32m    <a href='file:///c%3A/Users/MarkWu/AppData/Local/Programs/Python/Python38/lib/site-packages/pandas/io/parsers/readers.py?line=577'>578</a>\u001b[0m     \u001b[39mreturn\u001b[39;00m parser\n\u001b[0;32m    <a href='file:///c%3A/Users/MarkWu/AppData/Local/Programs/Python/Python38/lib/site-packages/pandas/io/parsers/readers.py?line=579'>580</a>\u001b[0m \u001b[39mwith\u001b[39;00m parser:\n\u001b[1;32m--> <a href='file:///c%3A/Users/MarkWu/AppData/Local/Programs/Python/Python38/lib/site-packages/pandas/io/parsers/readers.py?line=580'>581</a>\u001b[0m     \u001b[39mreturn\u001b[39;00m parser\u001b[39m.\u001b[39;49mread(nrows)\n",
      "File \u001b[1;32mc:\\Users\\MarkWu\\AppData\\Local\\Programs\\Python\\Python38\\lib\\site-packages\\pandas\\io\\parsers\\readers.py:1254\u001b[0m, in \u001b[0;36mTextFileReader.read\u001b[1;34m(self, nrows)\u001b[0m\n\u001b[0;32m   <a href='file:///c%3A/Users/MarkWu/AppData/Local/Programs/Python/Python38/lib/site-packages/pandas/io/parsers/readers.py?line=1251'>1252</a>\u001b[0m nrows \u001b[39m=\u001b[39m validate_integer(\u001b[39m\"\u001b[39m\u001b[39mnrows\u001b[39m\u001b[39m\"\u001b[39m, nrows)\n\u001b[0;32m   <a href='file:///c%3A/Users/MarkWu/AppData/Local/Programs/Python/Python38/lib/site-packages/pandas/io/parsers/readers.py?line=1252'>1253</a>\u001b[0m \u001b[39mtry\u001b[39;00m:\n\u001b[1;32m-> <a href='file:///c%3A/Users/MarkWu/AppData/Local/Programs/Python/Python38/lib/site-packages/pandas/io/parsers/readers.py?line=1253'>1254</a>\u001b[0m     index, columns, col_dict \u001b[39m=\u001b[39m \u001b[39mself\u001b[39;49m\u001b[39m.\u001b[39;49m_engine\u001b[39m.\u001b[39;49mread(nrows)\n\u001b[0;32m   <a href='file:///c%3A/Users/MarkWu/AppData/Local/Programs/Python/Python38/lib/site-packages/pandas/io/parsers/readers.py?line=1254'>1255</a>\u001b[0m \u001b[39mexcept\u001b[39;00m \u001b[39mException\u001b[39;00m:\n\u001b[0;32m   <a href='file:///c%3A/Users/MarkWu/AppData/Local/Programs/Python/Python38/lib/site-packages/pandas/io/parsers/readers.py?line=1255'>1256</a>\u001b[0m     \u001b[39mself\u001b[39m\u001b[39m.\u001b[39mclose()\n",
      "File \u001b[1;32mc:\\Users\\MarkWu\\AppData\\Local\\Programs\\Python\\Python38\\lib\\site-packages\\pandas\\io\\parsers\\c_parser_wrapper.py:225\u001b[0m, in \u001b[0;36mCParserWrapper.read\u001b[1;34m(self, nrows)\u001b[0m\n\u001b[0;32m    <a href='file:///c%3A/Users/MarkWu/AppData/Local/Programs/Python/Python38/lib/site-packages/pandas/io/parsers/c_parser_wrapper.py?line=222'>223</a>\u001b[0m \u001b[39mtry\u001b[39;00m:\n\u001b[0;32m    <a href='file:///c%3A/Users/MarkWu/AppData/Local/Programs/Python/Python38/lib/site-packages/pandas/io/parsers/c_parser_wrapper.py?line=223'>224</a>\u001b[0m     \u001b[39mif\u001b[39;00m \u001b[39mself\u001b[39m\u001b[39m.\u001b[39mlow_memory:\n\u001b[1;32m--> <a href='file:///c%3A/Users/MarkWu/AppData/Local/Programs/Python/Python38/lib/site-packages/pandas/io/parsers/c_parser_wrapper.py?line=224'>225</a>\u001b[0m         chunks \u001b[39m=\u001b[39m \u001b[39mself\u001b[39;49m\u001b[39m.\u001b[39;49m_reader\u001b[39m.\u001b[39;49mread_low_memory(nrows)\n\u001b[0;32m    <a href='file:///c%3A/Users/MarkWu/AppData/Local/Programs/Python/Python38/lib/site-packages/pandas/io/parsers/c_parser_wrapper.py?line=225'>226</a>\u001b[0m         \u001b[39m# destructive to chunks\u001b[39;00m\n\u001b[0;32m    <a href='file:///c%3A/Users/MarkWu/AppData/Local/Programs/Python/Python38/lib/site-packages/pandas/io/parsers/c_parser_wrapper.py?line=226'>227</a>\u001b[0m         data \u001b[39m=\u001b[39m _concatenate_chunks(chunks)\n",
      "File \u001b[1;32mc:\\Users\\MarkWu\\AppData\\Local\\Programs\\Python\\Python38\\lib\\site-packages\\pandas\\_libs\\parsers.pyx:805\u001b[0m, in \u001b[0;36mpandas._libs.parsers.TextReader.read_low_memory\u001b[1;34m()\u001b[0m\n",
      "File \u001b[1;32mc:\\Users\\MarkWu\\AppData\\Local\\Programs\\Python\\Python38\\lib\\site-packages\\pandas\\_libs\\parsers.pyx:883\u001b[0m, in \u001b[0;36mpandas._libs.parsers.TextReader._read_rows\u001b[1;34m()\u001b[0m\n",
      "File \u001b[1;32mc:\\Users\\MarkWu\\AppData\\Local\\Programs\\Python\\Python38\\lib\\site-packages\\pandas\\_libs\\parsers.pyx:1038\u001b[0m, in \u001b[0;36mpandas._libs.parsers.TextReader._convert_column_data\u001b[1;34m()\u001b[0m\n",
      "File \u001b[1;32mc:\\Users\\MarkWu\\AppData\\Local\\Programs\\Python\\Python38\\lib\\site-packages\\pandas\\core\\dtypes\\common.py:1474\u001b[0m, in \u001b[0;36mis_extension_array_dtype\u001b[1;34m(arr_or_dtype)\u001b[0m\n\u001b[0;32m   <a href='file:///c%3A/Users/MarkWu/AppData/Local/Programs/Python/Python38/lib/site-packages/pandas/core/dtypes/common.py?line=1428'>1429</a>\u001b[0m \u001b[39mdef\u001b[39;00m \u001b[39mis_extension_array_dtype\u001b[39m(arr_or_dtype) \u001b[39m-\u001b[39m\u001b[39m>\u001b[39m \u001b[39mbool\u001b[39m:\n\u001b[0;32m   <a href='file:///c%3A/Users/MarkWu/AppData/Local/Programs/Python/Python38/lib/site-packages/pandas/core/dtypes/common.py?line=1429'>1430</a>\u001b[0m     \u001b[39m\"\"\"\u001b[39;00m\n\u001b[0;32m   <a href='file:///c%3A/Users/MarkWu/AppData/Local/Programs/Python/Python38/lib/site-packages/pandas/core/dtypes/common.py?line=1430'>1431</a>\u001b[0m \u001b[39m    Check if an object is a pandas extension array type.\u001b[39;00m\n\u001b[0;32m   <a href='file:///c%3A/Users/MarkWu/AppData/Local/Programs/Python/Python38/lib/site-packages/pandas/core/dtypes/common.py?line=1431'>1432</a>\u001b[0m \n\u001b[1;32m   (...)\u001b[0m\n\u001b[0;32m   <a href='file:///c%3A/Users/MarkWu/AppData/Local/Programs/Python/Python38/lib/site-packages/pandas/core/dtypes/common.py?line=1471'>1472</a>\u001b[0m \u001b[39m    False\u001b[39;00m\n\u001b[0;32m   <a href='file:///c%3A/Users/MarkWu/AppData/Local/Programs/Python/Python38/lib/site-packages/pandas/core/dtypes/common.py?line=1472'>1473</a>\u001b[0m \u001b[39m    \"\"\"\u001b[39;00m\n\u001b[1;32m-> <a href='file:///c%3A/Users/MarkWu/AppData/Local/Programs/Python/Python38/lib/site-packages/pandas/core/dtypes/common.py?line=1473'>1474</a>\u001b[0m     dtype \u001b[39m=\u001b[39m \u001b[39mgetattr\u001b[39;49m(arr_or_dtype, \u001b[39m\"\u001b[39m\u001b[39mdtype\u001b[39m\u001b[39m\"\u001b[39m, arr_or_dtype)\n\u001b[0;32m   <a href='file:///c%3A/Users/MarkWu/AppData/Local/Programs/Python/Python38/lib/site-packages/pandas/core/dtypes/common.py?line=1474'>1475</a>\u001b[0m     \u001b[39mif\u001b[39;00m \u001b[39misinstance\u001b[39m(dtype, ExtensionDtype):\n\u001b[0;32m   <a href='file:///c%3A/Users/MarkWu/AppData/Local/Programs/Python/Python38/lib/site-packages/pandas/core/dtypes/common.py?line=1475'>1476</a>\u001b[0m         \u001b[39mreturn\u001b[39;00m \u001b[39mTrue\u001b[39;00m\n",
      "\u001b[1;31mKeyboardInterrupt\u001b[0m: "
     ]
    }
   ],
   "source": [
    "train = pd.read_csv('data/weibo_train_data.txt',sep='\\t',\n",
    "                    names=['uid','mid','time','forward_count','comment_count','like_count','content'],parse_dates=[2])\n",
    "                    \n",
    "def preprocess_excute(data,training_month,start,end):\n",
    "    processor = preprocess(data,training_month,start,end)\n",
    "    # SENDER FEATURES\n",
    "    data = processor.post_frequency()\n",
    "    data = train_sample = processor.fans_features()\n",
    "    print('Send Features done!')\n",
    "    # TIME FEATURES\n",
    "    data = processor.time_features()\n",
    "    print('Time Features done!')\n",
    "    # EXPLICIT CONTENT FEATURES\n",
    "    data = processor.explicit_content_features()\n",
    "    print('Explicit Content Features done!')\n",
    "    # IMPLICIT CONTENT FEATURES\n",
    "    processor.tokenize_content() # tokenization AND remove stopwrods\n",
    "    print('Tokenization done!')\n",
    "    processor.TFIDF() # extract keywords by TF-IDF in DESCENDING order\n",
    "    print('Keywords Extraction done!')\n",
    "    processor.sentiment_analysis() # sentiment analysis: [-,+]\n",
    "    print('Sentiment Analysis done!')\n",
    "    return data\n",
    "\n",
    "prepared_df = preprocess_excute(data=train,training_month=6,start='2015-02-01',end='2015-07-31')\n",
    "prepared_df.drop(['seg_content_lis','unique_words'],axis=1,inplace=True)\n",
    "#prepared_df.to_csv('data/cleaned_train.txt',sep=',',index=False)"
   ]
  },
  {
   "cell_type": "markdown",
   "metadata": {},
   "source": [
    "### Topic Modeling"
   ]
  },
  {
   "cell_type": "code",
   "execution_count": 3,
   "metadata": {},
   "outputs": [],
   "source": [
    "prepared_df = pd.read_csv('data/cleaned_train.txt',parse_dates=[2])\n",
    "prepared_df.seg_content = prepared_df.seg_content.fillna('空内容') # 填充去除停用词后、无实质内容的博文为“空内容”"
   ]
  },
  {
   "cell_type": "markdown",
   "metadata": {},
   "source": [
    "#### preprocess"
   ]
  },
  {
   "cell_type": "code",
   "execution_count": 4,
   "metadata": {},
   "outputs": [
    {
     "name": "stdout",
     "output_type": "stream",
     "text": [
      "Preprocess Results:\n",
      "\n",
      "Vocabulary list: ['一一分' '一一列举' '一一对应' ... '龟裂' '龟速' '龟鳖'] \n",
      " Total number of unique words: 348475\n",
      "******************************\n",
      "Word pairs and their frequencies:\n",
      "   (0, 17470)\t1\n",
      "  (0, 172794)\t1\n",
      "  (0, 269791)\t1\n",
      "  (0, 218133)\t1\n",
      "  (0, 297777)\t1\n",
      "  (0, 229980)\t1\n",
      "  (0, 155755)\t1\n",
      "  (0, 163158)\t1\n",
      "  (0, 63015)\t1\n",
      "  (0, 238131)\t1\n",
      "  (0, 117684)\t1\n",
      "  (0, 9719)\t1\n",
      "  (0, 185183)\t1\n",
      "  (1, 146979)\t1\n",
      "  (1, 130375)\t1\n",
      "  (1, 146819)\t1\n",
      "  (1, 235891)\t1\n",
      "  (2, 269791)\t2\n",
      "  (2, 218133)\t1\n",
      "  (2, 297777)\t1\n",
      "  (2, 229980)\t1\n",
      "  (2, 155755)\t1\n",
      "  (2, 238131)\t1\n",
      "  (2, 210487)\t1\n",
      "  (2, 248120)\t1\n",
      "  :\t:\n",
      "  (1225083, 115552)\t1\n",
      "  (1225083, 7678)\t1\n",
      "  (1225083, 93043)\t1\n",
      "  (1225083, 133886)\t1\n",
      "  (1225084, 91675)\t1\n",
      "  (1225084, 54384)\t1\n",
      "  (1225085, 76255)\t1\n",
      "  (1225085, 222563)\t1\n",
      "  (1225085, 242507)\t1\n",
      "  (1225085, 98594)\t1\n",
      "  (1225085, 148583)\t1\n",
      "  (1225085, 1024)\t1\n",
      "  (1225086, 257795)\t4\n",
      "  (1225086, 255067)\t1\n",
      "  (1225086, 157121)\t1\n",
      "  (1225086, 133282)\t1\n",
      "  (1225086, 264145)\t1\n",
      "  (1225086, 107163)\t2\n",
      "  (1225086, 229280)\t1\n",
      "  (1225086, 43140)\t1\n",
      "  (1225086, 156258)\t1\n",
      "  (1225086, 19490)\t1\n",
      "  (1225086, 225961)\t1\n",
      "  (1225086, 329362)\t2\n",
      "  (1225087, 250012)\t1\n",
      "******************************\n",
      "Preprocess done~\n"
     ]
    }
   ],
   "source": [
    "corpus = prepared_df['seg_content'].str.strip().tolist() # list[str]\n",
    "BTM = BTM_excute(data=corpus)\n",
    "BTM.preprocess()"
   ]
  },
  {
   "cell_type": "markdown",
   "metadata": {},
   "source": [
    "#### training"
   ]
  },
  {
   "cell_type": "markdown",
   "metadata": {},
   "source": [
    "##### T=10"
   ]
  },
  {
   "cell_type": "code",
   "execution_count": 29,
   "metadata": {},
   "outputs": [
    {
     "name": "stderr",
     "output_type": "stream",
     "text": [
      "100%|██████████| 50/50 [09:10<00:00, 11.01s/it]"
     ]
    },
    {
     "name": "stdout",
     "output_type": "stream",
     "text": [
      "Training done~\n"
     ]
    },
    {
     "name": "stderr",
     "output_type": "stream",
     "text": [
      "\n"
     ]
    }
   ],
   "source": [
    "model = BTM.modeling(topic_num=10,wordz_size=20,alpha=50/10,beta=0.01,iterations=50,seed=12321)"
   ]
  },
  {
   "cell_type": "code",
   "execution_count": 30,
   "metadata": {},
   "outputs": [
    {
     "name": "stderr",
     "output_type": "stream",
     "text": [
      "100%|██████████| 1225088/1225088 [00:21<00:00, 56061.11it/s]\n"
     ]
    },
    {
     "name": "stdout",
     "output_type": "stream",
     "text": [
      "Topic inference done~\n"
     ]
    },
    {
     "data": {
      "text/html": [
       "<div>\n",
       "<style scoped>\n",
       "    .dataframe tbody tr th:only-of-type {\n",
       "        vertical-align: middle;\n",
       "    }\n",
       "\n",
       "    .dataframe tbody tr th {\n",
       "        vertical-align: top;\n",
       "    }\n",
       "\n",
       "    .dataframe thead th {\n",
       "        text-align: right;\n",
       "    }\n",
       "</style>\n",
       "<table border=\"1\" class=\"dataframe\">\n",
       "  <thead>\n",
       "    <tr style=\"text-align: right;\">\n",
       "      <th></th>\n",
       "      <th>seg_content</th>\n",
       "      <th>topic</th>\n",
       "    </tr>\n",
       "  </thead>\n",
       "  <tbody>\n",
       "    <tr>\n",
       "      <th>0</th>\n",
       "      <td>丽江 旅游 股票 炒股 财经 理财 投资 推荐 包赢 股 盈利 对半分 成 不算 本金 群</td>\n",
       "      <td>8</td>\n",
       "    </tr>\n",
       "    <tr>\n",
       "      <th>1</th>\n",
       "      <td>想开 幸福 想不开 痛苦</td>\n",
       "      <td>1</td>\n",
       "    </tr>\n",
       "    <tr>\n",
       "      <th>2</th>\n",
       "      <td>浩丰 科技 股票 股神 股市 炒股 财经 理财 投资 股票 庄家 最低 资金 万元 做庄 每...</td>\n",
       "      <td>8</td>\n",
       "    </tr>\n",
       "    <tr>\n",
       "      <th>3</th>\n",
       "      <td>女性 占便宜 从来不 生气 心态</td>\n",
       "      <td>1</td>\n",
       "    </tr>\n",
       "    <tr>\n",
       "      <th>4</th>\n",
       "      <td>网宿 科技 股票 炒股 财经 理财 投资 推荐 包赢 股 盈利 对半分 成 不算 本金 群</td>\n",
       "      <td>8</td>\n",
       "    </tr>\n",
       "    <tr>\n",
       "      <th>...</th>\n",
       "      <td>...</td>\n",
       "      <td>...</td>\n",
       "    </tr>\n",
       "    <tr>\n",
       "      <th>1225083</th>\n",
       "      <td>开通 地址 下载 客户端</td>\n",
       "      <td>7</td>\n",
       "    </tr>\n",
       "    <tr>\n",
       "      <th>1225084</th>\n",
       "      <td>分享 图片</td>\n",
       "      <td>2</td>\n",
       "    </tr>\n",
       "    <tr>\n",
       "      <th>1225085</th>\n",
       "      <td>可爱 太 懂事 一天到晚 睡觉 爸爸 强 多少倍</td>\n",
       "      <td>4</td>\n",
       "    </tr>\n",
       "    <tr>\n",
       "      <th>1225086</th>\n",
       "      <td>陈明 永 红包 羊年 未 好运 先来 抢个 红包 乐翻天 陈明 永 粉丝 红包 里 抽到 现...</td>\n",
       "      <td>9</td>\n",
       "    </tr>\n",
       "    <tr>\n",
       "      <th>1225087</th>\n",
       "      <td>空内容</td>\n",
       "      <td>6</td>\n",
       "    </tr>\n",
       "  </tbody>\n",
       "</table>\n",
       "<p>1225088 rows × 2 columns</p>\n",
       "</div>"
      ],
      "text/plain": [
       "                                               seg_content  topic\n",
       "0            丽江 旅游 股票 炒股 财经 理财 投资 推荐 包赢 股 盈利 对半分 成 不算 本金 群      8\n",
       "1                                             想开 幸福 想不开 痛苦      1\n",
       "2        浩丰 科技 股票 股神 股市 炒股 财经 理财 投资 股票 庄家 最低 资金 万元 做庄 每...      8\n",
       "3                                         女性 占便宜 从来不 生气 心态      1\n",
       "4            网宿 科技 股票 炒股 财经 理财 投资 推荐 包赢 股 盈利 对半分 成 不算 本金 群      8\n",
       "...                                                    ...    ...\n",
       "1225083                                       开通 地址 下载 客户端      7\n",
       "1225084                                              分享 图片      2\n",
       "1225085                           可爱 太 懂事 一天到晚 睡觉 爸爸 强 多少倍      4\n",
       "1225086  陈明 永 红包 羊年 未 好运 先来 抢个 红包 乐翻天 陈明 永 粉丝 红包 里 抽到 现...      9\n",
       "1225087                                                空内容      6\n",
       "\n",
       "[1225088 rows x 2 columns]"
      ]
     },
     "execution_count": 30,
     "metadata": {},
     "output_type": "execute_result"
    }
   ],
   "source": [
    "doc_topic_df = BTM.inference()\n",
    "doc_topic_df"
   ]
  },
  {
   "cell_type": "code",
   "execution_count": 31,
   "metadata": {},
   "outputs": [],
   "source": [
    "doc_topic_df.to_csv('data/topics10/doc_topics_10.txt',sep=',',encoding='gbk',index_label='doc_id')"
   ]
  },
  {
   "cell_type": "code",
   "execution_count": 32,
   "metadata": {},
   "outputs": [
    {
     "name": "stderr",
     "output_type": "stream",
     "text": [
      "c:\\Users\\MarkWu\\AppData\\Local\\Programs\\Python\\Python38\\lib\\site-packages\\sklearn\\manifold\\_t_sne.py:780: FutureWarning: The default initialization in TSNE will change from 'random' to 'pca' in 1.2.\n",
      "  warnings.warn(\n",
      "c:\\Users\\MarkWu\\AppData\\Local\\Programs\\Python\\Python38\\lib\\site-packages\\sklearn\\manifold\\_t_sne.py:790: FutureWarning: The default learning rate in TSNE will change from 200.0 to 'auto' in 1.2.\n",
      "  warnings.warn(\n",
      "c:\\Users\\MarkWu\\AppData\\Local\\Programs\\Python\\Python38\\lib\\site-packages\\sklearn\\manifold\\_t_sne.py:819: FutureWarning: 'square_distances' has been introduced in 0.24 to help phase out legacy squaring behavior. The 'legacy' setting will be removed in 1.1 (renaming of 0.26), and the default setting will be changed to True. In 1.3, 'square_distances' will be removed altogether, and distances will be squared by default. Set 'square_distances'=True to silence this warning.\n",
      "  warnings.warn(\n"
     ]
    }
   ],
   "source": [
    "# Visualization\n",
    "tmp.report(model=model, docs=corpus)"
   ]
  },
  {
   "cell_type": "code",
   "execution_count": null,
   "metadata": {},
   "outputs": [
    {
     "data": {
      "text/html": [
       "<div>\n",
       "<style scoped>\n",
       "    .dataframe tbody tr th:only-of-type {\n",
       "        vertical-align: middle;\n",
       "    }\n",
       "\n",
       "    .dataframe tbody tr th {\n",
       "        vertical-align: top;\n",
       "    }\n",
       "\n",
       "    .dataframe thead th {\n",
       "        text-align: right;\n",
       "    }\n",
       "</style>\n",
       "<table border=\"1\" class=\"dataframe\">\n",
       "  <thead>\n",
       "    <tr style=\"text-align: right;\">\n",
       "      <th></th>\n",
       "      <th>seg_content</th>\n",
       "      <th>topic</th>\n",
       "    </tr>\n",
       "  </thead>\n",
       "  <tbody>\n",
       "    <tr>\n",
       "      <th>78</th>\n",
       "      <td>申请 微博 认证 认证 信息 远洋 股票投资 公司 经理 请</td>\n",
       "      <td>3</td>\n",
       "    </tr>\n",
       "    <tr>\n",
       "      <th>101</th>\n",
       "      <td>发表 博文 数字 域名 结拍元 数字 域名 结拍元 精品 数字 便宜 备案 域名 备案 域名...</td>\n",
       "      <td>3</td>\n",
       "    </tr>\n",
       "    <tr>\n",
       "      <th>148</th>\n",
       "      <td>发表 博文 综合 双拼 域名 建 信息 分类 网站 月 日讯据 爆料 月初 曝 交易 双拼 ...</td>\n",
       "      <td>3</td>\n",
       "    </tr>\n",
       "    <tr>\n",
       "      <th>281</th>\n",
       "      <td>秒 懂 区别</td>\n",
       "      <td>3</td>\n",
       "    </tr>\n",
       "    <tr>\n",
       "      <th>376</th>\n",
       "      <td>大脑 高效 工作 黄金 时段</td>\n",
       "      <td>3</td>\n",
       "    </tr>\n",
       "    <tr>\n",
       "      <th>...</th>\n",
       "      <td>...</td>\n",
       "      <td>...</td>\n",
       "    </tr>\n",
       "    <tr>\n",
       "      <th>1225057</th>\n",
       "      <td>平台 丢 台 机器 业务 运行 感些 华为 弟兄 修好 虚拟 华 平台 丢 数据 上次 强多...</td>\n",
       "      <td>3</td>\n",
       "    </tr>\n",
       "    <tr>\n",
       "      <th>1225068</th>\n",
       "      <td>空内容</td>\n",
       "      <td>3</td>\n",
       "    </tr>\n",
       "    <tr>\n",
       "      <th>1225070</th>\n",
       "      <td>想 本机 装个 集群 求问 经验之谈 海峰</td>\n",
       "      <td>3</td>\n",
       "    </tr>\n",
       "    <tr>\n",
       "      <th>1225078</th>\n",
       "      <td>打造 中国 传统 文化 优秀 平台 共建 全球华人 精神家园 才府 家园 欢迎您 优秀 传统...</td>\n",
       "      <td>3</td>\n",
       "    </tr>\n",
       "    <tr>\n",
       "      <th>1225087</th>\n",
       "      <td>空内容</td>\n",
       "      <td>3</td>\n",
       "    </tr>\n",
       "  </tbody>\n",
       "</table>\n",
       "<p>283844 rows × 2 columns</p>\n",
       "</div>"
      ],
      "text/plain": [
       "                                               seg_content  topic\n",
       "78                          申请 微博 认证 认证 信息 远洋 股票投资 公司 经理 请      3\n",
       "101      发表 博文 数字 域名 结拍元 数字 域名 结拍元 精品 数字 便宜 备案 域名 备案 域名...      3\n",
       "148      发表 博文 综合 双拼 域名 建 信息 分类 网站 月 日讯据 爆料 月初 曝 交易 双拼 ...      3\n",
       "281                                                 秒 懂 区别      3\n",
       "376                                         大脑 高效 工作 黄金 时段      3\n",
       "...                                                    ...    ...\n",
       "1225057  平台 丢 台 机器 业务 运行 感些 华为 弟兄 修好 虚拟 华 平台 丢 数据 上次 强多...      3\n",
       "1225068                                                空内容      3\n",
       "1225070                              想 本机 装个 集群 求问 经验之谈 海峰      3\n",
       "1225078  打造 中国 传统 文化 优秀 平台 共建 全球华人 精神家园 才府 家园 欢迎您 优秀 传统...      3\n",
       "1225087                                                空内容      3\n",
       "\n",
       "[283844 rows x 2 columns]"
      ]
     },
     "metadata": {},
     "output_type": "display_data"
    }
   ],
   "source": [
    "# Topic 0:影视追星\n",
    "# Topic 1:未知\n",
    "# Topic 2:商业广告\n",
    "# Topic 3:学习工作\n",
    "# Topic 4:烹饪料理\n",
    "# Topic 5:商业广告（？）\n",
    "# Topic 6:党建/政策\n",
    "# Topic 7:?\n",
    "# Topic 8:投资理财\n",
    "# Topic 9:?\n",
    "doc_topic_df.topic.astype(int)\n",
    "doc_topic_df.loc[doc_topic_df.topic==3]"
   ]
  },
  {
   "cell_type": "markdown",
   "metadata": {},
   "source": [
    "##### T=20"
   ]
  },
  {
   "cell_type": "code",
   "execution_count": 5,
   "metadata": {},
   "outputs": [
    {
     "name": "stderr",
     "output_type": "stream",
     "text": [
      "100%|██████████| 50/50 [17:52<00:00, 21.44s/it]\n"
     ]
    },
    {
     "name": "stdout",
     "output_type": "stream",
     "text": [
      "Training done~\n"
     ]
    }
   ],
   "source": [
    "model = BTM.modeling(topic_num=20,wordz_size=20,alpha=50/20,beta=0.01,iterations=50,seed=12321)"
   ]
  },
  {
   "cell_type": "code",
   "execution_count": 6,
   "metadata": {},
   "outputs": [
    {
     "name": "stderr",
     "output_type": "stream",
     "text": [
      "100%|██████████| 1225088/1225088 [00:27<00:00, 44108.27it/s]\n"
     ]
    },
    {
     "name": "stdout",
     "output_type": "stream",
     "text": [
      "Topic inference done~\n"
     ]
    },
    {
     "data": {
      "text/html": [
       "<div>\n",
       "<style scoped>\n",
       "    .dataframe tbody tr th:only-of-type {\n",
       "        vertical-align: middle;\n",
       "    }\n",
       "\n",
       "    .dataframe tbody tr th {\n",
       "        vertical-align: top;\n",
       "    }\n",
       "\n",
       "    .dataframe thead th {\n",
       "        text-align: right;\n",
       "    }\n",
       "</style>\n",
       "<table border=\"1\" class=\"dataframe\">\n",
       "  <thead>\n",
       "    <tr style=\"text-align: right;\">\n",
       "      <th></th>\n",
       "      <th>seg_content</th>\n",
       "      <th>topic</th>\n",
       "    </tr>\n",
       "  </thead>\n",
       "  <tbody>\n",
       "    <tr>\n",
       "      <th>0</th>\n",
       "      <td>丽江 旅游 股票 炒股 财经 理财 投资 推荐 包赢 股 盈利 对半分 成 不算 本金 群</td>\n",
       "      <td>16</td>\n",
       "    </tr>\n",
       "    <tr>\n",
       "      <th>1</th>\n",
       "      <td>想开 幸福 想不开 痛苦</td>\n",
       "      <td>11</td>\n",
       "    </tr>\n",
       "    <tr>\n",
       "      <th>2</th>\n",
       "      <td>浩丰 科技 股票 股神 股市 炒股 财经 理财 投资 股票 庄家 最低 资金 万元 做庄 每...</td>\n",
       "      <td>16</td>\n",
       "    </tr>\n",
       "    <tr>\n",
       "      <th>3</th>\n",
       "      <td>女性 占便宜 从来不 生气 心态</td>\n",
       "      <td>11</td>\n",
       "    </tr>\n",
       "    <tr>\n",
       "      <th>4</th>\n",
       "      <td>网宿 科技 股票 炒股 财经 理财 投资 推荐 包赢 股 盈利 对半分 成 不算 本金 群</td>\n",
       "      <td>16</td>\n",
       "    </tr>\n",
       "    <tr>\n",
       "      <th>...</th>\n",
       "      <td>...</td>\n",
       "      <td>...</td>\n",
       "    </tr>\n",
       "    <tr>\n",
       "      <th>1225083</th>\n",
       "      <td>开通 地址 下载 客户端</td>\n",
       "      <td>0</td>\n",
       "    </tr>\n",
       "    <tr>\n",
       "      <th>1225084</th>\n",
       "      <td>分享 图片</td>\n",
       "      <td>3</td>\n",
       "    </tr>\n",
       "    <tr>\n",
       "      <th>1225085</th>\n",
       "      <td>可爱 太 懂事 一天到晚 睡觉 爸爸 强 多少倍</td>\n",
       "      <td>8</td>\n",
       "    </tr>\n",
       "    <tr>\n",
       "      <th>1225086</th>\n",
       "      <td>陈明 永 红包 羊年 未 好运 先来 抢个 红包 乐翻天 陈明 永 粉丝 红包 里 抽到 现...</td>\n",
       "      <td>19</td>\n",
       "    </tr>\n",
       "    <tr>\n",
       "      <th>1225087</th>\n",
       "      <td>空内容</td>\n",
       "      <td>15</td>\n",
       "    </tr>\n",
       "  </tbody>\n",
       "</table>\n",
       "<p>1225088 rows × 2 columns</p>\n",
       "</div>"
      ],
      "text/plain": [
       "                                               seg_content  topic\n",
       "0            丽江 旅游 股票 炒股 财经 理财 投资 推荐 包赢 股 盈利 对半分 成 不算 本金 群     16\n",
       "1                                             想开 幸福 想不开 痛苦     11\n",
       "2        浩丰 科技 股票 股神 股市 炒股 财经 理财 投资 股票 庄家 最低 资金 万元 做庄 每...     16\n",
       "3                                         女性 占便宜 从来不 生气 心态     11\n",
       "4            网宿 科技 股票 炒股 财经 理财 投资 推荐 包赢 股 盈利 对半分 成 不算 本金 群     16\n",
       "...                                                    ...    ...\n",
       "1225083                                       开通 地址 下载 客户端      0\n",
       "1225084                                              分享 图片      3\n",
       "1225085                           可爱 太 懂事 一天到晚 睡觉 爸爸 强 多少倍      8\n",
       "1225086  陈明 永 红包 羊年 未 好运 先来 抢个 红包 乐翻天 陈明 永 粉丝 红包 里 抽到 现...     19\n",
       "1225087                                                空内容     15\n",
       "\n",
       "[1225088 rows x 2 columns]"
      ]
     },
     "execution_count": 6,
     "metadata": {},
     "output_type": "execute_result"
    }
   ],
   "source": [
    "doc_topic_df = BTM.inference()\n",
    "doc_topic_df"
   ]
  },
  {
   "cell_type": "code",
   "execution_count": 8,
   "metadata": {},
   "outputs": [],
   "source": [
    "doc_topic_df.to_csv('data/topics10/doc_topics_20.txt',sep=',',encoding='gbk',index_label='doc_id')\n",
    "#prepared_df = prepared_df.merge(doc_topic_df) # combine the topic inference and raw data\n",
    "#prepared_df"
   ]
  },
  {
   "cell_type": "code",
   "execution_count": 7,
   "metadata": {},
   "outputs": [
    {
     "name": "stderr",
     "output_type": "stream",
     "text": [
      "c:\\Users\\MarkWu\\AppData\\Local\\Programs\\Python\\Python38\\lib\\site-packages\\sklearn\\manifold\\_t_sne.py:780: FutureWarning: The default initialization in TSNE will change from 'random' to 'pca' in 1.2.\n",
      "  warnings.warn(\n",
      "c:\\Users\\MarkWu\\AppData\\Local\\Programs\\Python\\Python38\\lib\\site-packages\\sklearn\\manifold\\_t_sne.py:790: FutureWarning: The default learning rate in TSNE will change from 200.0 to 'auto' in 1.2.\n",
      "  warnings.warn(\n",
      "c:\\Users\\MarkWu\\AppData\\Local\\Programs\\Python\\Python38\\lib\\site-packages\\sklearn\\manifold\\_t_sne.py:819: FutureWarning: 'square_distances' has been introduced in 0.24 to help phase out legacy squaring behavior. The 'legacy' setting will be removed in 1.1 (renaming of 0.26), and the default setting will be changed to True. In 1.3, 'square_distances' will be removed altogether, and distances will be squared by default. Set 'square_distances'=True to silence this warning.\n",
      "  warnings.warn(\n"
     ]
    },
    {
     "data": {
      "application/vnd.jupyter.widget-view+json": {
       "model_id": "cc15a38befe54050885eaf352479a27a",
       "version_major": 2,
       "version_minor": 0
      },
      "text/plain": [
       "VBox(children=(VBox(children=(HBox(children=(HTML(value='<b>Select a topic</b>:'), Dropdown(options=((0, 0), (…"
      ]
     },
     "metadata": {},
     "output_type": "display_data"
    }
   ],
   "source": [
    "# Visualization\n",
    "tmp.report(model=model, docs=corpus)\n",
    "# 0=学习活动；1=人文历史；2=流行影视&流行歌曲；3=婚庆广告&公司培训；4=婚庆广告？；5=追星；6=时政；7=编程/数学/技术交流；8=情绪疏泄(?)；9=烹饪料理；10="
   ]
  },
  {
   "cell_type": "markdown",
   "metadata": {},
   "source": [
    "### Data Merge"
   ]
  },
  {
   "cell_type": "code",
   "execution_count": 9,
   "metadata": {},
   "outputs": [
    {
     "ename": "KeyError",
     "evalue": "\"['seg_content'] not found in axis\"",
     "output_type": "error",
     "traceback": [
      "\u001b[1;31m---------------------------------------------------------------------------\u001b[0m",
      "\u001b[1;31mKeyError\u001b[0m                                  Traceback (most recent call last)",
      "\u001b[1;32mc:\\Users\\MarkWu\\Desktop\\Final-NLP\\Ours\\feature_engineering.ipynb Cell 21'\u001b[0m in \u001b[0;36m<cell line: 14>\u001b[1;34m()\u001b[0m\n\u001b[0;32m     <a href='vscode-notebook-cell:/c%3A/Users/MarkWu/Desktop/Final-NLP/Ours/feature_engineering.ipynb#ch0000017?line=11'>12</a>\u001b[0m raw_df \u001b[39m=\u001b[39m raw_df\u001b[39m.\u001b[39mmerge(mids)\n\u001b[0;32m     <a href='vscode-notebook-cell:/c%3A/Users/MarkWu/Desktop/Final-NLP/Ours/feature_engineering.ipynb#ch0000017?line=12'>13</a>\u001b[0m raw_df \u001b[39m=\u001b[39m raw_df\u001b[39m.\u001b[39mmerge(uids)\n\u001b[1;32m---> <a href='vscode-notebook-cell:/c%3A/Users/MarkWu/Desktop/Final-NLP/Ours/feature_engineering.ipynb#ch0000017?line=13'>14</a>\u001b[0m raw_df\u001b[39m.\u001b[39;49mdrop(columns\u001b[39m=\u001b[39;49m[\u001b[39m'\u001b[39;49m\u001b[39muid\u001b[39;49m\u001b[39m'\u001b[39;49m,\u001b[39m'\u001b[39;49m\u001b[39mmid\u001b[39;49m\u001b[39m'\u001b[39;49m,\u001b[39m'\u001b[39;49m\u001b[39mseg_content\u001b[39;49m\u001b[39m'\u001b[39;49m],inplace\u001b[39m=\u001b[39;49m\u001b[39mTrue\u001b[39;49;00m)\n\u001b[0;32m     <a href='vscode-notebook-cell:/c%3A/Users/MarkWu/Desktop/Final-NLP/Ours/feature_engineering.ipynb#ch0000017?line=14'>15</a>\u001b[0m raw_df \u001b[39m=\u001b[39m raw_df\u001b[39m.\u001b[39mmerge(doc_topic_df)\n\u001b[0;32m     <a href='vscode-notebook-cell:/c%3A/Users/MarkWu/Desktop/Final-NLP/Ours/feature_engineering.ipynb#ch0000017?line=15'>16</a>\u001b[0m raw_df\n",
      "File \u001b[1;32mc:\\Users\\MarkWu\\AppData\\Local\\Programs\\Python\\Python38\\lib\\site-packages\\pandas\\util\\_decorators.py:311\u001b[0m, in \u001b[0;36mdeprecate_nonkeyword_arguments.<locals>.decorate.<locals>.wrapper\u001b[1;34m(*args, **kwargs)\u001b[0m\n\u001b[0;32m    <a href='file:///c%3A/Users/MarkWu/AppData/Local/Programs/Python/Python38/lib/site-packages/pandas/util/_decorators.py?line=304'>305</a>\u001b[0m \u001b[39mif\u001b[39;00m \u001b[39mlen\u001b[39m(args) \u001b[39m>\u001b[39m num_allow_args:\n\u001b[0;32m    <a href='file:///c%3A/Users/MarkWu/AppData/Local/Programs/Python/Python38/lib/site-packages/pandas/util/_decorators.py?line=305'>306</a>\u001b[0m     warnings\u001b[39m.\u001b[39mwarn(\n\u001b[0;32m    <a href='file:///c%3A/Users/MarkWu/AppData/Local/Programs/Python/Python38/lib/site-packages/pandas/util/_decorators.py?line=306'>307</a>\u001b[0m         msg\u001b[39m.\u001b[39mformat(arguments\u001b[39m=\u001b[39marguments),\n\u001b[0;32m    <a href='file:///c%3A/Users/MarkWu/AppData/Local/Programs/Python/Python38/lib/site-packages/pandas/util/_decorators.py?line=307'>308</a>\u001b[0m         \u001b[39mFutureWarning\u001b[39;00m,\n\u001b[0;32m    <a href='file:///c%3A/Users/MarkWu/AppData/Local/Programs/Python/Python38/lib/site-packages/pandas/util/_decorators.py?line=308'>309</a>\u001b[0m         stacklevel\u001b[39m=\u001b[39mstacklevel,\n\u001b[0;32m    <a href='file:///c%3A/Users/MarkWu/AppData/Local/Programs/Python/Python38/lib/site-packages/pandas/util/_decorators.py?line=309'>310</a>\u001b[0m     )\n\u001b[1;32m--> <a href='file:///c%3A/Users/MarkWu/AppData/Local/Programs/Python/Python38/lib/site-packages/pandas/util/_decorators.py?line=310'>311</a>\u001b[0m \u001b[39mreturn\u001b[39;00m func(\u001b[39m*\u001b[39;49margs, \u001b[39m*\u001b[39;49m\u001b[39m*\u001b[39;49mkwargs)\n",
      "File \u001b[1;32mc:\\Users\\MarkWu\\AppData\\Local\\Programs\\Python\\Python38\\lib\\site-packages\\pandas\\core\\frame.py:4954\u001b[0m, in \u001b[0;36mDataFrame.drop\u001b[1;34m(self, labels, axis, index, columns, level, inplace, errors)\u001b[0m\n\u001b[0;32m   <a href='file:///c%3A/Users/MarkWu/AppData/Local/Programs/Python/Python38/lib/site-packages/pandas/core/frame.py?line=4805'>4806</a>\u001b[0m \u001b[39m@deprecate_nonkeyword_arguments\u001b[39m(version\u001b[39m=\u001b[39m\u001b[39mNone\u001b[39;00m, allowed_args\u001b[39m=\u001b[39m[\u001b[39m\"\u001b[39m\u001b[39mself\u001b[39m\u001b[39m\"\u001b[39m, \u001b[39m\"\u001b[39m\u001b[39mlabels\u001b[39m\u001b[39m\"\u001b[39m])\n\u001b[0;32m   <a href='file:///c%3A/Users/MarkWu/AppData/Local/Programs/Python/Python38/lib/site-packages/pandas/core/frame.py?line=4806'>4807</a>\u001b[0m \u001b[39mdef\u001b[39;00m \u001b[39mdrop\u001b[39m(\n\u001b[0;32m   <a href='file:///c%3A/Users/MarkWu/AppData/Local/Programs/Python/Python38/lib/site-packages/pandas/core/frame.py?line=4807'>4808</a>\u001b[0m     \u001b[39mself\u001b[39m,\n\u001b[1;32m   (...)\u001b[0m\n\u001b[0;32m   <a href='file:///c%3A/Users/MarkWu/AppData/Local/Programs/Python/Python38/lib/site-packages/pandas/core/frame.py?line=4814'>4815</a>\u001b[0m     errors: \u001b[39mstr\u001b[39m \u001b[39m=\u001b[39m \u001b[39m\"\u001b[39m\u001b[39mraise\u001b[39m\u001b[39m\"\u001b[39m,\n\u001b[0;32m   <a href='file:///c%3A/Users/MarkWu/AppData/Local/Programs/Python/Python38/lib/site-packages/pandas/core/frame.py?line=4815'>4816</a>\u001b[0m ):\n\u001b[0;32m   <a href='file:///c%3A/Users/MarkWu/AppData/Local/Programs/Python/Python38/lib/site-packages/pandas/core/frame.py?line=4816'>4817</a>\u001b[0m     \u001b[39m\"\"\"\u001b[39;00m\n\u001b[0;32m   <a href='file:///c%3A/Users/MarkWu/AppData/Local/Programs/Python/Python38/lib/site-packages/pandas/core/frame.py?line=4817'>4818</a>\u001b[0m \u001b[39m    Drop specified labels from rows or columns.\u001b[39;00m\n\u001b[0;32m   <a href='file:///c%3A/Users/MarkWu/AppData/Local/Programs/Python/Python38/lib/site-packages/pandas/core/frame.py?line=4818'>4819</a>\u001b[0m \n\u001b[1;32m   (...)\u001b[0m\n\u001b[0;32m   <a href='file:///c%3A/Users/MarkWu/AppData/Local/Programs/Python/Python38/lib/site-packages/pandas/core/frame.py?line=4951'>4952</a>\u001b[0m \u001b[39m            weight  1.0     0.8\u001b[39;00m\n\u001b[0;32m   <a href='file:///c%3A/Users/MarkWu/AppData/Local/Programs/Python/Python38/lib/site-packages/pandas/core/frame.py?line=4952'>4953</a>\u001b[0m \u001b[39m    \"\"\"\u001b[39;00m\n\u001b[1;32m-> <a href='file:///c%3A/Users/MarkWu/AppData/Local/Programs/Python/Python38/lib/site-packages/pandas/core/frame.py?line=4953'>4954</a>\u001b[0m     \u001b[39mreturn\u001b[39;00m \u001b[39msuper\u001b[39;49m()\u001b[39m.\u001b[39;49mdrop(\n\u001b[0;32m   <a href='file:///c%3A/Users/MarkWu/AppData/Local/Programs/Python/Python38/lib/site-packages/pandas/core/frame.py?line=4954'>4955</a>\u001b[0m         labels\u001b[39m=\u001b[39;49mlabels,\n\u001b[0;32m   <a href='file:///c%3A/Users/MarkWu/AppData/Local/Programs/Python/Python38/lib/site-packages/pandas/core/frame.py?line=4955'>4956</a>\u001b[0m         axis\u001b[39m=\u001b[39;49maxis,\n\u001b[0;32m   <a href='file:///c%3A/Users/MarkWu/AppData/Local/Programs/Python/Python38/lib/site-packages/pandas/core/frame.py?line=4956'>4957</a>\u001b[0m         index\u001b[39m=\u001b[39;49mindex,\n\u001b[0;32m   <a href='file:///c%3A/Users/MarkWu/AppData/Local/Programs/Python/Python38/lib/site-packages/pandas/core/frame.py?line=4957'>4958</a>\u001b[0m         columns\u001b[39m=\u001b[39;49mcolumns,\n\u001b[0;32m   <a href='file:///c%3A/Users/MarkWu/AppData/Local/Programs/Python/Python38/lib/site-packages/pandas/core/frame.py?line=4958'>4959</a>\u001b[0m         level\u001b[39m=\u001b[39;49mlevel,\n\u001b[0;32m   <a href='file:///c%3A/Users/MarkWu/AppData/Local/Programs/Python/Python38/lib/site-packages/pandas/core/frame.py?line=4959'>4960</a>\u001b[0m         inplace\u001b[39m=\u001b[39;49minplace,\n\u001b[0;32m   <a href='file:///c%3A/Users/MarkWu/AppData/Local/Programs/Python/Python38/lib/site-packages/pandas/core/frame.py?line=4960'>4961</a>\u001b[0m         errors\u001b[39m=\u001b[39;49merrors,\n\u001b[0;32m   <a href='file:///c%3A/Users/MarkWu/AppData/Local/Programs/Python/Python38/lib/site-packages/pandas/core/frame.py?line=4961'>4962</a>\u001b[0m     )\n",
      "File \u001b[1;32mc:\\Users\\MarkWu\\AppData\\Local\\Programs\\Python\\Python38\\lib\\site-packages\\pandas\\core\\generic.py:4267\u001b[0m, in \u001b[0;36mNDFrame.drop\u001b[1;34m(self, labels, axis, index, columns, level, inplace, errors)\u001b[0m\n\u001b[0;32m   <a href='file:///c%3A/Users/MarkWu/AppData/Local/Programs/Python/Python38/lib/site-packages/pandas/core/generic.py?line=4264'>4265</a>\u001b[0m \u001b[39mfor\u001b[39;00m axis, labels \u001b[39min\u001b[39;00m axes\u001b[39m.\u001b[39mitems():\n\u001b[0;32m   <a href='file:///c%3A/Users/MarkWu/AppData/Local/Programs/Python/Python38/lib/site-packages/pandas/core/generic.py?line=4265'>4266</a>\u001b[0m     \u001b[39mif\u001b[39;00m labels \u001b[39mis\u001b[39;00m \u001b[39mnot\u001b[39;00m \u001b[39mNone\u001b[39;00m:\n\u001b[1;32m-> <a href='file:///c%3A/Users/MarkWu/AppData/Local/Programs/Python/Python38/lib/site-packages/pandas/core/generic.py?line=4266'>4267</a>\u001b[0m         obj \u001b[39m=\u001b[39m obj\u001b[39m.\u001b[39;49m_drop_axis(labels, axis, level\u001b[39m=\u001b[39;49mlevel, errors\u001b[39m=\u001b[39;49merrors)\n\u001b[0;32m   <a href='file:///c%3A/Users/MarkWu/AppData/Local/Programs/Python/Python38/lib/site-packages/pandas/core/generic.py?line=4268'>4269</a>\u001b[0m \u001b[39mif\u001b[39;00m inplace:\n\u001b[0;32m   <a href='file:///c%3A/Users/MarkWu/AppData/Local/Programs/Python/Python38/lib/site-packages/pandas/core/generic.py?line=4269'>4270</a>\u001b[0m     \u001b[39mself\u001b[39m\u001b[39m.\u001b[39m_update_inplace(obj)\n",
      "File \u001b[1;32mc:\\Users\\MarkWu\\AppData\\Local\\Programs\\Python\\Python38\\lib\\site-packages\\pandas\\core\\generic.py:4311\u001b[0m, in \u001b[0;36mNDFrame._drop_axis\u001b[1;34m(self, labels, axis, level, errors, consolidate, only_slice)\u001b[0m\n\u001b[0;32m   <a href='file:///c%3A/Users/MarkWu/AppData/Local/Programs/Python/Python38/lib/site-packages/pandas/core/generic.py?line=4308'>4309</a>\u001b[0m         new_axis \u001b[39m=\u001b[39m axis\u001b[39m.\u001b[39mdrop(labels, level\u001b[39m=\u001b[39mlevel, errors\u001b[39m=\u001b[39merrors)\n\u001b[0;32m   <a href='file:///c%3A/Users/MarkWu/AppData/Local/Programs/Python/Python38/lib/site-packages/pandas/core/generic.py?line=4309'>4310</a>\u001b[0m     \u001b[39melse\u001b[39;00m:\n\u001b[1;32m-> <a href='file:///c%3A/Users/MarkWu/AppData/Local/Programs/Python/Python38/lib/site-packages/pandas/core/generic.py?line=4310'>4311</a>\u001b[0m         new_axis \u001b[39m=\u001b[39m axis\u001b[39m.\u001b[39;49mdrop(labels, errors\u001b[39m=\u001b[39;49merrors)\n\u001b[0;32m   <a href='file:///c%3A/Users/MarkWu/AppData/Local/Programs/Python/Python38/lib/site-packages/pandas/core/generic.py?line=4311'>4312</a>\u001b[0m     indexer \u001b[39m=\u001b[39m axis\u001b[39m.\u001b[39mget_indexer(new_axis)\n\u001b[0;32m   <a href='file:///c%3A/Users/MarkWu/AppData/Local/Programs/Python/Python38/lib/site-packages/pandas/core/generic.py?line=4313'>4314</a>\u001b[0m \u001b[39m# Case for non-unique axis\u001b[39;00m\n\u001b[0;32m   <a href='file:///c%3A/Users/MarkWu/AppData/Local/Programs/Python/Python38/lib/site-packages/pandas/core/generic.py?line=4314'>4315</a>\u001b[0m \u001b[39melse\u001b[39;00m:\n",
      "File \u001b[1;32mc:\\Users\\MarkWu\\AppData\\Local\\Programs\\Python\\Python38\\lib\\site-packages\\pandas\\core\\indexes\\base.py:6644\u001b[0m, in \u001b[0;36mIndex.drop\u001b[1;34m(self, labels, errors)\u001b[0m\n\u001b[0;32m   <a href='file:///c%3A/Users/MarkWu/AppData/Local/Programs/Python/Python38/lib/site-packages/pandas/core/indexes/base.py?line=6641'>6642</a>\u001b[0m \u001b[39mif\u001b[39;00m mask\u001b[39m.\u001b[39many():\n\u001b[0;32m   <a href='file:///c%3A/Users/MarkWu/AppData/Local/Programs/Python/Python38/lib/site-packages/pandas/core/indexes/base.py?line=6642'>6643</a>\u001b[0m     \u001b[39mif\u001b[39;00m errors \u001b[39m!=\u001b[39m \u001b[39m\"\u001b[39m\u001b[39mignore\u001b[39m\u001b[39m\"\u001b[39m:\n\u001b[1;32m-> <a href='file:///c%3A/Users/MarkWu/AppData/Local/Programs/Python/Python38/lib/site-packages/pandas/core/indexes/base.py?line=6643'>6644</a>\u001b[0m         \u001b[39mraise\u001b[39;00m \u001b[39mKeyError\u001b[39;00m(\u001b[39mf\u001b[39m\u001b[39m\"\u001b[39m\u001b[39m{\u001b[39;00m\u001b[39mlist\u001b[39m(labels[mask])\u001b[39m}\u001b[39;00m\u001b[39m not found in axis\u001b[39m\u001b[39m\"\u001b[39m)\n\u001b[0;32m   <a href='file:///c%3A/Users/MarkWu/AppData/Local/Programs/Python/Python38/lib/site-packages/pandas/core/indexes/base.py?line=6644'>6645</a>\u001b[0m     indexer \u001b[39m=\u001b[39m indexer[\u001b[39m~\u001b[39mmask]\n\u001b[0;32m   <a href='file:///c%3A/Users/MarkWu/AppData/Local/Programs/Python/Python38/lib/site-packages/pandas/core/indexes/base.py?line=6645'>6646</a>\u001b[0m \u001b[39mreturn\u001b[39;00m \u001b[39mself\u001b[39m\u001b[39m.\u001b[39mdelete(indexer)\n",
      "\u001b[1;31mKeyError\u001b[0m: \"['seg_content'] not found in axis\""
     ]
    }
   ],
   "source": [
    "import pandas as pd\n",
    "import numpy as np\n",
    "raw_df = pd.read_csv('data/cleaned_train.txt',sep=',',parse_dates=[2])\n",
    "doc_topic_df = pd.read_csv('data/topics20/doc_topics_20.txt',sep=',',encoding='gbk')\n",
    "#np.savetxt('data/user_features/mid_train.txt',raw_df.uid.unique(),fmt='%s') # 提取独立uid\n",
    "#np.savetxt('data/user_features/mid_train.txt',raw_df.mid.unique(),fmt='%s') # 提取独立mid\n",
    "mids = pd.read_csv('data/user_features/mid_train.txt',names=['mid'])\n",
    "mids['doc_id'] = range(len(mids))\n",
    "uids = pd.read_csv('data/user_features/uid_train.txt',names=['uid'])\n",
    "uids['user_id'] = range(len(uids))\n",
    "raw_df.drop(columns=['freq','seg_content'],inplace=True)\n",
    "raw_df = raw_df.merge(mids)\n",
    "raw_df = raw_df.merge(uids)\n"
   ]
  },
  {
   "cell_type": "code",
   "execution_count": null,
   "metadata": {},
   "outputs": [],
   "source": [
    "raw_df.drop(columns=['uid','mid'],inplace=True)\n",
    "raw_df = raw_df.merge(doc_topic_df)\n",
    "raw_df\n",
    "raw_df.to_csv('data/cleaned_train_with_topics20.txt',index=False)"
   ]
  }
 ],
 "metadata": {
  "interpreter": {
   "hash": "052d905c0a1db0b455c3bf64c3742843c5f75ecbcad4ed76ea651577397d6226"
  },
  "kernelspec": {
   "display_name": "Python 3.8.10 64-bit",
   "language": "python",
   "name": "python3"
  },
  "language_info": {
   "codemirror_mode": {
    "name": "ipython",
    "version": 3
   },
   "file_extension": ".py",
   "mimetype": "text/x-python",
   "name": "python",
   "nbconvert_exporter": "python",
   "pygments_lexer": "ipython3",
   "version": "3.8.10"
  },
  "orig_nbformat": 4
 },
 "nbformat": 4,
 "nbformat_minor": 2
}
